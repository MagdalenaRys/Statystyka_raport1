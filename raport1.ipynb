{
 "cells": [
  {
   "cell_type": "code",
   "execution_count": 4,
   "metadata": {},
   "outputs": [
    {
     "name": "stderr",
     "output_type": "stream",
     "text": [
      "[*********************100%%**********************]  2 of 2 completed\n"
     ]
    }
   ],
   "source": [
    "import yfinance as yf\n",
    "\n",
    "# Tworzenie obiektu ticker dla spółek z branży healthcare\n",
    "healthcare_tickers = yf.Tickers('JNJ PFE')\n",
    "\n",
    "# Pobieranie danych historycznych\n",
    "healthcare_data = healthcare_tickers.history(period=\"1y\")\n",
    "\n",
    "# Zapisywanie danych do pliku CSV\n",
    "healthcare_data.to_csv('healthcare_data.csv')"
   ]
  }
 ],
 "metadata": {
  "kernelspec": {
   "display_name": "Python 3",
   "language": "python",
   "name": "python3"
  },
  "language_info": {
   "codemirror_mode": {
    "name": "ipython",
    "version": 3
   },
   "file_extension": ".py",
   "mimetype": "text/x-python",
   "name": "python",
   "nbconvert_exporter": "python",
   "pygments_lexer": "ipython3",
   "version": "3.10.7"
  }
 },
 "nbformat": 4,
 "nbformat_minor": 2
}
